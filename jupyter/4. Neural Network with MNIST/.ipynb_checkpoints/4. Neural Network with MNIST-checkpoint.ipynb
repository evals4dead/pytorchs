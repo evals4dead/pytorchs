{
 "cells": [
  {
   "cell_type": "code",
   "execution_count": 5,
   "metadata": {},
   "outputs": [],
   "source": [
    "import torch\n",
    "import torch.nn as nn\n",
    "import torch.optim as optim\n",
    "\n",
    "import torchvision.utils as utils\n",
    "import torchvision.datasets as dsets\n",
    "import torchvision.transforms as transforms\n",
    "\n",
    "import torch.nn.functional as F\n",
    "\n",
    "import numpy as np\n",
    "import random\n",
    "\n",
    "import matplotlib.pyplot as plt\n",
    "%matplotlib inline"
   ]
  },
  {
   "cell_type": "code",
   "execution_count": 4,
   "metadata": {},
   "outputs": [
    {
     "name": "stdout",
     "output_type": "stream",
     "text": [
      "Downloading http://yann.lecun.com/exdb/mnist/train-images-idx3-ubyte.gz\n",
      "Downloading http://yann.lecun.com/exdb/mnist/train-labels-idx1-ubyte.gz\n",
      "Downloading http://yann.lecun.com/exdb/mnist/t10k-images-idx3-ubyte.gz\n",
      "Downloading http://yann.lecun.com/exdb/mnist/t10k-labels-idx1-ubyte.gz\n",
      "Processing...\n",
      "Done!\n"
     ]
    }
   ],
   "source": [
    "mnist_train = dsets.MNIST(root='./data/', train=True, transform=transforms.ToTensor(), download=True)\n",
    "mnist_test = dsets.MNIST(root='./data/', train=False, transform=transforms.ToTensor(), download=True)"
   ]
  },
  {
   "cell_type": "code",
   "execution_count": 42,
   "metadata": {},
   "outputs": [],
   "source": [
    "class NeuralNet(nn.Module):\n",
    "    def __init__(self):\n",
    "        super(NeuralNet, self).__init__()\n",
    "        self.fc1 = nn.Linear(28 * 28, 512, bias=True)\n",
    "        self.fc2 = nn.Linear(512, 10, bias=True)\n",
    "        \n",
    "    def forward(self, x):\n",
    "        x = F.relu(self.fc1(x))\n",
    "        x = self.fc2(x)\n",
    "        \n",
    "        return x"
   ]
  },
  {
   "cell_type": "code",
   "execution_count": 43,
   "metadata": {},
   "outputs": [],
   "source": [
    "num_epochs = 5\n",
    "batch_size = 100\n",
    "\n",
    "data_loader = torch.utils.data.DataLoader(dataset=mnist_train, batch_size=batch_size, shuffle=True, num_workers=1)"
   ]
  },
  {
   "cell_type": "code",
   "execution_count": 44,
   "metadata": {},
   "outputs": [
    {
     "name": "stdout",
     "output_type": "stream",
     "text": [
      "Epoch [1/5], lter [100/600], Loss: 2.2702\n",
      "Epoch [1/5], lter [200/600], Loss: 2.2427\n",
      "Epoch [1/5], lter [300/600], Loss: 2.2283\n",
      "Epoch [1/5], lter [400/600], Loss: 2.2004\n",
      "Epoch [1/5], lter [500/600], Loss: 2.1947\n",
      "Epoch [1/5], lter [600/600], Loss: 2.1639\n",
      "Epoch [2/5], lter [100/600], Loss: 2.1324\n",
      "Epoch [2/5], lter [200/600], Loss: 2.1001\n",
      "Epoch [2/5], lter [300/600], Loss: 2.1045\n",
      "Epoch [2/5], lter [400/600], Loss: 2.0775\n",
      "Epoch [2/5], lter [500/600], Loss: 2.0220\n",
      "Epoch [2/5], lter [600/600], Loss: 1.9850\n",
      "Epoch [3/5], lter [100/600], Loss: 1.9284\n",
      "Epoch [3/5], lter [200/600], Loss: 1.9096\n",
      "Epoch [3/5], lter [300/600], Loss: 1.8976\n",
      "Epoch [3/5], lter [400/600], Loss: 1.8919\n",
      "Epoch [3/5], lter [500/600], Loss: 1.8611\n",
      "Epoch [3/5], lter [600/600], Loss: 1.8084\n",
      "Epoch [4/5], lter [100/600], Loss: 1.8096\n",
      "Epoch [4/5], lter [200/600], Loss: 1.7557\n",
      "Epoch [4/5], lter [300/600], Loss: 1.6989\n",
      "Epoch [4/5], lter [400/600], Loss: 1.6593\n",
      "Epoch [4/5], lter [500/600], Loss: 1.6417\n",
      "Epoch [4/5], lter [600/600], Loss: 1.5843\n",
      "Epoch [5/5], lter [100/600], Loss: 1.5240\n",
      "Epoch [5/5], lter [200/600], Loss: 1.5351\n",
      "Epoch [5/5], lter [300/600], Loss: 1.4434\n",
      "Epoch [5/5], lter [400/600], Loss: 1.3996\n",
      "Epoch [5/5], lter [500/600], Loss: 1.3540\n",
      "Epoch [5/5], lter [600/600], Loss: 1.3931\n",
      "Learning finished!\n"
     ]
    }
   ],
   "source": [
    "model = NeuralNet()\n",
    "\n",
    "loss = nn.CrossEntropyLoss()\n",
    "optimizer = optim.SGD(model.parameters(), lr=0.001)\n",
    "\n",
    "for epoch in range(num_epochs):\n",
    "    total_batch = len(mnist_train) // batch_size\n",
    "    \n",
    "    for i, (batch_images, batch_labels) in enumerate(data_loader):\n",
    "        X = batch_images.view(-1, 28 * 28)\n",
    "        Y = batch_labels\n",
    "        \n",
    "        pre = model(X)\n",
    "        cost = loss(pre, Y)\n",
    "        \n",
    "        optimizer.zero_grad()\n",
    "        cost.backward()\n",
    "        optimizer.step()\n",
    "        \n",
    "        if (i + 1) % 100 == 0:\n",
    "            print('Epoch [%d/%d], lter [%d/%d], Loss: %.4f'\n",
    "                 %(epoch+1, num_epochs, i+1, total_batch, cost.item()))\n",
    "            \n",
    "print(\"Learning finished!\")"
   ]
  },
  {
   "cell_type": "code",
   "execution_count": 45,
   "metadata": {},
   "outputs": [
    {
     "name": "stdout",
     "output_type": "stream",
     "text": [
      "Accuracy: 78.350000 %\n"
     ]
    }
   ],
   "source": [
    "correct = 0\n",
    "total = 0\n",
    "\n",
    "for images, labels in mnist_test:\n",
    "    images = images.view(-1, 28 * 28)\n",
    "    outputs = model(images)\n",
    "    \n",
    "    _, predicted = torch.max(outputs.data, 1)\n",
    "    total += 1\n",
    "    correct += (predicted == labels).sum()\n",
    "    \n",
    "print('Accuracy: %f %%' % (100 * float(correct) / total))"
   ]
  },
  {
   "cell_type": "code",
   "execution_count": 46,
   "metadata": {},
   "outputs": [],
   "source": [
    "random_number = random.randint(0, len(mnist_test) - 1)\n",
    "random_X = mnist_test.test_data[random_number:random_number + 1].view(-1, 28 * 28).float()\n",
    "random_Y = mnist_test.test_labels[random_number:random_number+1]"
   ]
  },
  {
   "cell_type": "code",
   "execution_count": 47,
   "metadata": {
    "scrolled": true
   },
   "outputs": [
    {
     "name": "stdout",
     "output_type": "stream",
     "text": [
      "Random Y:  [2]\n",
      "Predicted Y:  [2]\n"
     ]
    },
    {
     "data": {
      "image/png": "[encoded data removed]",
      "text/plain": [
       "<Figure size 432x288 with 1 Axes>"
      ]
     },
     "metadata": {
      "needs_background": "light"
     },
     "output_type": "display_data"
    }
   ],
   "source": [
    "random_pre = model(random_X)\n",
    "plt.imshow(random_X.data.view(28, 28).numpy(), cmap='gray')\n",
    "print('Random Y: ', random_Y.data.view(1).numpy())\n",
    "print('Predicted Y: ', torch.max(random_pre.data, 1)[1].numpy())"
   ]
  },
  {
   "cell_type": "code",
   "execution_count": null,
   "metadata": {},
   "outputs": [],
   "source": []
  }
 ],
 "metadata": {
  "kernelspec": {
   "display_name": "Python 3",
   "language": "python",
   "name": "python3"
  },
  "language_info": {
   "codemirror_mode": {
    "name": "ipython",
    "version": 3
   },
   "file_extension": ".py",
   "mimetype": "text/x-python",
   "name": "python",
   "nbconvert_exporter": "python",
   "pygments_lexer": "ipython3",
   "version": "3.6.8"
  }
 },
 "nbformat": 4,
 "nbformat_minor": 2
}
