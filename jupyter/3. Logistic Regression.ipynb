{
 "cells": [
  {
   "cell_type": "code",
   "execution_count": 1,
   "metadata": {},
   "outputs": [],
   "source": [
    "import torch\n",
    "import torch.nn as nn\n",
    "import torch.optim as optim\n",
    "\n",
    "import numpy as np\n",
    "from sklearn import datasets\n",
    "import matplotlib.pyplot as plt\n",
    "%matplotlib inline"
   ]
  },
  {
   "cell_type": "code",
   "execution_count": 54,
   "metadata": {},
   "outputs": [],
   "source": [
    "iris = datasets.load_iris()"
   ]
  },
  {
   "cell_type": "code",
   "execution_count": 55,
   "metadata": {},
   "outputs": [],
   "source": [
    "X = iris.data"
   ]
  },
  {
   "cell_type": "code",
   "execution_count": 56,
   "metadata": {},
   "outputs": [],
   "source": [
    "Y = iris.target"
   ]
  },
  {
   "cell_type": "code",
   "execution_count": 80,
   "metadata": {},
   "outputs": [
    {
     "data": {
      "text/plain": [
       "(torch.Size([80, 4]), torch.Size([70, 4]), (150, 4))"
      ]
     },
     "execution_count": 80,
     "metadata": {},
     "output_type": "execute_result"
    }
   ],
   "source": [
    "train_x = torch.from_numpy(X[0:80, :]).float()\n",
    "test_x = torch.from_numpy(X[80:, :]).float()\n",
    "train_x.shape, test_x.shape, X.shape"
   ]
  },
  {
   "cell_type": "code",
   "execution_count": 81,
   "metadata": {},
   "outputs": [
    {
     "data": {
      "text/plain": [
       "(torch.Size([80]), torch.Size([70]), (150,))"
      ]
     },
     "execution_count": 81,
     "metadata": {},
     "output_type": "execute_result"
    }
   ],
   "source": [
    "train_y = torch.from_numpy(Y[0:80]).long()\n",
    "test_y = torch.from_numpy(Y[80:]).long()\n",
    "train_y.shape, test_y.shape, Y.shape"
   ]
  },
  {
   "cell_type": "code",
   "execution_count": 66,
   "metadata": {},
   "outputs": [],
   "source": [
    "# x, y = torch.from_numpy(train_x).float(), torch.from_numpy(train_y).float()"
   ]
  },
  {
   "cell_type": "code",
   "execution_count": 82,
   "metadata": {},
   "outputs": [],
   "source": [
    "linear1 = nn.Linear(4, 100, bias=True)\n",
    "linear2 = nn.Linear(100, 3)\n",
    "sigmoid = nn.Sigmoid()\n",
    "\n",
    "model = nn.Sequential(linear1, sigmoid, linear2)"
   ]
  },
  {
   "cell_type": "code",
   "execution_count": 83,
   "metadata": {},
   "outputs": [],
   "source": [
    "loss = nn.CrossEntropyLoss()\n",
    "optimizer = optim.SGD(model.parameters(), lr = 0.01)"
   ]
  },
  {
   "cell_type": "code",
   "execution_count": 84,
   "metadata": {},
   "outputs": [
    {
     "name": "stdout",
     "output_type": "stream",
     "text": [
      "Step :  0 , Cost :  1.0447556972503662\n",
      "Step :  200 , Cost :  0.34195923805236816\n",
      "Step :  400 , Cost :  0.18847981095314026\n",
      "Step :  600 , Cost :  0.11741290241479874\n",
      "Step :  800 , Cost :  0.08107344806194305\n",
      "Step :  1000 , Cost :  0.060282398015260696\n",
      "Step :  1200 , Cost :  0.04723573476076126\n",
      "Step :  1400 , Cost :  0.038449086248874664\n",
      "Step :  1600 , Cost :  0.03220250830054283\n",
      "Step :  1800 , Cost :  0.027570601552724838\n",
      "Step :  2000 , Cost :  0.024019068107008934\n"
     ]
    }
   ],
   "source": [
    "for step in range(2001):\n",
    "    pre = model(train_x)\n",
    "    cost = loss(pre, train_y)\n",
    "    \n",
    "    optimizer.zero_grad()\n",
    "    cost.backward()\n",
    "    optimizer.step()\n",
    "    \n",
    "    if step % 200 == 0 :\n",
    "        print(\"Step : \",step, \", Cost : \", cost.item())"
   ]
  },
  {
   "cell_type": "code",
   "execution_count": 85,
   "metadata": {},
   "outputs": [],
   "source": [
    "predict_y = model(train_x)"
   ]
  },
  {
   "cell_type": "code",
   "execution_count": 86,
   "metadata": {},
   "outputs": [
    {
     "data": {
      "text/plain": [
       "tensor([[ 4.2985, -0.1405, -3.2938],\n",
       "        [ 3.9027,  0.2363, -3.3043],\n",
       "        [ 4.1902, -0.0579, -3.2739],\n",
       "        [ 3.8759,  0.2386, -3.2644],\n",
       "        [ 4.3814, -0.2295, -3.2777],\n",
       "        [ 4.2210, -0.0614, -3.2956],\n",
       "        [ 4.2189, -0.0984, -3.2514],\n",
       "        [ 4.1087,  0.0377, -3.2882],\n",
       "        [ 3.8341,  0.2665, -3.2565],\n",
       "        [ 3.8883,  0.2506, -3.2939],\n",
       "        [ 4.3294, -0.1555, -3.3082],\n",
       "        [ 3.9992,  0.1289, -3.2654],\n",
       "        [ 3.9274,  0.2075, -3.2917],\n",
       "        [ 4.2960, -0.1849, -3.2459],\n",
       "        [ 4.8483, -0.6416, -3.3272],\n",
       "        [ 4.7979, -0.6154, -3.2917],\n",
       "        [ 4.6590, -0.4844, -3.3012],\n",
       "        [ 4.2781, -0.1232, -3.2958],\n",
       "        [ 4.1500,  0.0309, -3.3287],\n",
       "        [ 4.4011, -0.2489, -3.2748],\n",
       "        [ 3.8613,  0.3023, -3.3239],\n",
       "        [ 4.3021, -0.1534, -3.2831],\n",
       "        [ 4.8367, -0.6967, -3.2457],\n",
       "        [ 3.7207,  0.4120, -3.3062],\n",
       "        [ 3.6404,  0.4728, -3.2573],\n",
       "        [ 3.6607,  0.4755, -3.3099],\n",
       "        [ 3.9487,  0.1869, -3.2900],\n",
       "        [ 4.1809, -0.0205, -3.3018],\n",
       "        [ 4.2152, -0.0514, -3.3100],\n",
       "        [ 3.8366,  0.2818, -3.2666],\n",
       "        [ 3.7499,  0.3740, -3.2831],\n",
       "        [ 4.0506,  0.1149, -3.3316],\n",
       "        [ 4.6627, -0.4988, -3.2612],\n",
       "        [ 4.8057, -0.6236, -3.2853],\n",
       "        [ 3.8667,  0.2692, -3.2960],\n",
       "        [ 4.2922, -0.1352, -3.3063],\n",
       "        [ 4.3912, -0.2040, -3.3336],\n",
       "        [ 4.4056, -0.2576, -3.2659],\n",
       "        [ 4.0374,  0.0699, -3.2537],\n",
       "        [ 4.1048,  0.0483, -3.2982],\n",
       "        [ 4.3950, -0.2426, -3.2877],\n",
       "        [ 3.4200,  0.6745, -3.3044],\n",
       "        [ 4.2015, -0.0909, -3.2424],\n",
       "        [ 3.9859,  0.1441, -3.2877],\n",
       "        [ 3.9213,  0.2102, -3.2685],\n",
       "        [ 3.8838,  0.2451, -3.2959],\n",
       "        [ 4.3093, -0.1582, -3.2710],\n",
       "        [ 4.0773,  0.0434, -3.2611],\n",
       "        [ 4.3340, -0.1664, -3.2987],\n",
       "        [ 4.1436,  0.0062, -3.2964],\n",
       "        [ 0.0764,  3.9423, -3.4032],\n",
       "        [ 0.2201,  3.7806, -3.3559],\n",
       "        [-0.1641,  4.1619, -3.3869],\n",
       "        [ 0.1164,  3.8437, -3.3181],\n",
       "        [-0.0995,  4.0876, -3.3747],\n",
       "        [-0.0136,  3.9735, -3.2947],\n",
       "        [ 0.0887,  3.8961, -3.3318],\n",
       "        [ 0.9131,  3.0662, -3.2807],\n",
       "        [-0.0116,  4.0133, -3.3793],\n",
       "        [ 0.4463,  3.5139, -3.2774],\n",
       "        [ 0.4259,  3.5299, -3.2952],\n",
       "        [ 0.3579,  3.6300, -3.3277],\n",
       "        [ 0.1268,  3.8654, -3.3707],\n",
       "        [-0.1262,  4.0962, -3.3237],\n",
       "        [ 0.9196,  3.0914, -3.3284],\n",
       "        [ 0.2728,  3.7474, -3.3941],\n",
       "        [ 0.0795,  3.8758, -3.2787],\n",
       "        [ 0.3359,  3.6585, -3.3273],\n",
       "        [-0.3498,  4.3090, -3.3681],\n",
       "        [ 0.3714,  3.6139, -3.3255],\n",
       "        [-0.0854,  4.0381, -3.2892],\n",
       "        [ 0.4542,  3.5557, -3.3651],\n",
       "        [-0.4953,  4.4494, -3.3459],\n",
       "        [-0.1547,  4.1268, -3.3245],\n",
       "        [ 0.2456,  3.7643, -3.3760],\n",
       "        [ 0.2078,  3.8051, -3.3879],\n",
       "        [-0.2353,  4.2282, -3.3917],\n",
       "        [-0.3255,  4.3018, -3.3665],\n",
       "        [ 0.0263,  3.9470, -3.3255],\n",
       "        [ 0.8670,  3.1563, -3.3524]], grad_fn=<AddmmBackward>)"
      ]
     },
     "execution_count": 86,
     "metadata": {},
     "output_type": "execute_result"
    }
   ],
   "source": [
    "predict_y"
   ]
  },
  {
   "cell_type": "code",
   "execution_count": null,
   "metadata": {},
   "outputs": [],
   "source": []
  }
 ],
 "metadata": {
  "kernelspec": {
   "display_name": "Python 3",
   "language": "python",
   "name": "python3"
  },
  "language_info": {
   "codemirror_mode": {
    "name": "ipython",
    "version": 3
   },
   "file_extension": ".py",
   "mimetype": "text/x-python",
   "name": "python",
   "nbconvert_exporter": "python",
   "pygments_lexer": "ipython3",
   "version": "3.6.8"
  }
 },
 "nbformat": 4,
 "nbformat_minor": 2
}
